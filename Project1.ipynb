{
  "nbformat": 4,
  "nbformat_minor": 0,
  "metadata": {
    "colab": {
      "name": "Project1",
      "version": "0.3.2",
      "provenance": [],
      "include_colab_link": true
    },
    "kernelspec": {
      "name": "python3",
      "display_name": "Python 3"
    }
  },
  "cells": [
    {
      "cell_type": "markdown",
      "metadata": {
        "id": "view-in-github",
        "colab_type": "text"
      },
      "source": [
        "<a href=\"https://colab.research.google.com/github/NicoMontoya/AB-Demo/blob/master/Project1.ipynb\" target=\"_parent\"><img src=\"https://colab.research.google.com/assets/colab-badge.svg\" alt=\"Open In Colab\"/></a>"
      ]
    },
    {
      "metadata": {
        "id": "awshFenuLDqp",
        "colab_type": "text"
      },
      "cell_type": "markdown",
      "source": [
        "## Lefty vs Righty in tennis. Who wins?\n",
        "\n",
        "The popular belief in the tennis community is that left handed tennis players have an advantage over right handed tennis players.  Pinnacle.com has a few articles on the subject.  I was also able to find a study that even includes some data at the amateur level.. although the data is not completely transparent.  \n",
        "\n",
        "Beyond tennis, there are handfuls of articles and studies done when it comes to dominance in sport based on the dominant hand.  Google is magical.  My goal is to provide a comprehensive comparison for the lay person who is interested in the topic, particularly regarding tennis.  \n",
        "\n",
        "I myself am a left-handed tennis player, who always liked the idea that I had an advantage, yet it did not seem to make winning matches any easier.  To quench my own curiosity, and as a fun experiment, I will analyze some data that includes players in the ATP and their performance against left-handed players.  \n",
        "\n",
        "Caveats:\n",
        "- I am left-handed myself, so yes. I am rooting for a particular team in this study..\n",
        "- The best information out there is at the top level of the game.  It would be even more interesting to do this with amateur data. One day I might.\n",
        "- There are better and more interesting methods out there I may not currently know about. If interested, please reach out, let me know about them and I will be happy to think about implementing it in future versions of this project :)\n",
        "\n",
        "\n",
        "\n",
        "\n",
        "\n",
        "\n"
      ]
    },
    {
      "metadata": {
        "id": "ITdNNgWPLC-s",
        "colab_type": "code",
        "colab": {}
      },
      "cell_type": "code",
      "source": [
        "## import initial data\n",
        "import pandas as pd\n",
        "import numpy as np\n",
        "import matplotlib.pyplot as plt\n",
        "from scipy import stats\n",
        "import datetime as dt"
      ],
      "execution_count": 0,
      "outputs": []
    },
    {
      "metadata": {
        "id": "SmI8DvnbTavI",
        "colab_type": "code",
        "colab": {}
      },
      "cell_type": "code",
      "source": [
        "matches_2016 = pd.read_csv('https://raw.githubusercontent.com/JeffSackmann/tennis_atp/master/atp_matches_2016.csv')\n",
        "pd.set_option('display.max_columns', 500)"
      ],
      "execution_count": 0,
      "outputs": []
    },
    {
      "metadata": {
        "id": "oPEbh04gaqgF",
        "colab_type": "code",
        "colab": {}
      },
      "cell_type": "code",
      "source": [
        "players_columns = ['player_id', 'first_name', 'last_name', 'hand', 'birth_date', 'country_code']\n",
        "atp_players = pd.read_csv('https://raw.githubusercontent.com/JeffSackmann/tennis_atp/master/atp_players.csv', names=players_columns,encoding=\"ISO-8859-1\")\n"
      ],
      "execution_count": 0,
      "outputs": []
    },
    {
      "metadata": {
        "id": "GpyZiIaHbpBh",
        "colab_type": "code",
        "colab": {
          "base_uri": "https://localhost:8080/",
          "height": 91
        },
        "outputId": "51f79be4-c303-4af7-f51a-5e6243e0c1cf"
      },
      "cell_type": "code",
      "source": [
        "ranking_columns = ['ranking_date', 'ranking', 'player_id', 'ranking_points']\n",
        "rankings = pd.read_csv('https://raw.githubusercontent.com/JeffSackmann/tennis_atp/master/atp_rankings_10s.csv', names=ranking_columns)"
      ],
      "execution_count": 105,
      "outputs": [
        {
          "output_type": "stream",
          "text": [
            "/usr/local/lib/python3.6/dist-packages/IPython/core/interactiveshell.py:2718: DtypeWarning: Columns (3) have mixed types. Specify dtype option on import or set low_memory=False.\n",
            "  interactivity=interactivity, compiler=compiler, result=result)\n"
          ],
          "name": "stderr"
        }
      ]
    },
    {
      "metadata": {
        "id": "9Dz8-jyEc_zV",
        "colab_type": "code",
        "colab": {}
      },
      "cell_type": "code",
      "source": [
        "rankings['ranking_date'] = pd.to_datetime(rankings['ranking_date'],format='%Y%m%d', errors='ignore')"
      ],
      "execution_count": 0,
      "outputs": []
    },
    {
      "metadata": {
        "id": "GedfJiQ7dvye",
        "colab_type": "code",
        "colab": {}
      },
      "cell_type": "code",
      "source": [
        "rankings2016 = rankings[rankings['ranking_date'].dt.year == 2016]"
      ],
      "execution_count": 0,
      "outputs": []
    },
    {
      "metadata": {
        "id": "F3l69wo2m7_8",
        "colab_type": "code",
        "colab": {}
      },
      "cell_type": "code",
      "source": [
        "rankings_players_2016 = pd.merge(rankings2016, atp_players, on='player_id').sort_values(by=['ranking_date', 'ranking'])"
      ],
      "execution_count": 0,
      "outputs": []
    },
    {
      "metadata": {
        "id": "LMxroWJ6oCsb",
        "colab_type": "code",
        "colab": {}
      },
      "cell_type": "code",
      "source": [
        "year_end_ranking_2016 = rankings_players_2016[rankings_players_2016['ranking_date'] == '2016-12-26']"
      ],
      "execution_count": 0,
      "outputs": []
    },
    {
      "metadata": {
        "id": "bb6sj6C0pDUD",
        "colab_type": "code",
        "colab": {
          "base_uri": "https://localhost:8080/",
          "height": 85
        },
        "outputId": "9d68be0b-d48f-4da5-8bac-f5b379089c4e"
      },
      "cell_type": "code",
      "source": [
        "year_end_ranking_2016['hand'].value_counts()"
      ],
      "execution_count": 145,
      "outputs": [
        {
          "output_type": "execute_result",
          "data": {
            "text/plain": [
              "R    1034\n",
              "U     889\n",
              "L     155\n",
              "Name: hand, dtype: int64"
            ]
          },
          "metadata": {
            "tags": []
          },
          "execution_count": 145
        }
      ]
    },
    {
      "metadata": {
        "id": "IN4R1b5DsXX_",
        "colab_type": "text"
      },
      "cell_type": "markdown",
      "source": [
        "By year end of 2016,  of all the ranked players\n",
        "\n",
        "7.45% were left handed\n",
        "\n",
        "49.76% were right handed\n",
        "\n",
        "42.78% were unknown"
      ]
    },
    {
      "metadata": {
        "id": "7tZecwUoEOAb",
        "colab_type": "code",
        "colab": {}
      },
      "cell_type": "code",
      "source": [
        "top100_ranking = year_end_ranking_2016[year_end_ranking_2016['ranking'] <= 100]"
      ],
      "execution_count": 0,
      "outputs": []
    },
    {
      "metadata": {
        "id": "ljSvei8KFCBJ",
        "colab_type": "code",
        "colab": {
          "base_uri": "https://localhost:8080/",
          "height": 68
        },
        "outputId": "fb149705-db3c-4d91-a53f-c3cb48bc9ac8"
      },
      "cell_type": "code",
      "source": [
        "top100_ranking['hand'].value_counts()"
      ],
      "execution_count": 204,
      "outputs": [
        {
          "output_type": "execute_result",
          "data": {
            "text/plain": [
              "R    82\n",
              "L    18\n",
              "Name: hand, dtype: int64"
            ]
          },
          "metadata": {
            "tags": []
          },
          "execution_count": 204
        }
      ]
    },
    {
      "metadata": {
        "id": "_MT3_dJnqmv6",
        "colab_type": "code",
        "colab": {
          "base_uri": "https://localhost:8080/",
          "height": 85
        },
        "outputId": "62d9c6d1-42c8-4fe3-e5e9-40403150b27f"
      },
      "cell_type": "code",
      "source": [
        "matches_2016['winner_hand'].value_counts(normalize=True)"
      ],
      "execution_count": 139,
      "outputs": [
        {
          "output_type": "execute_result",
          "data": {
            "text/plain": [
              "R    0.857094\n",
              "L    0.133038\n",
              "U    0.009867\n",
              "Name: winner_hand, dtype: float64"
            ]
          },
          "metadata": {
            "tags": []
          },
          "execution_count": 139
        }
      ]
    },
    {
      "metadata": {
        "id": "hgr8OZ2Z8I2M",
        "colab_type": "code",
        "colab": {
          "base_uri": "https://localhost:8080/",
          "height": 85
        },
        "outputId": "79ba06cf-67ff-41a3-904d-29aea3c6458a"
      },
      "cell_type": "code",
      "source": [
        "matches_2016['loser_hand'].value_counts(normalize=True)"
      ],
      "execution_count": 140,
      "outputs": [
        {
          "output_type": "execute_result",
          "data": {
            "text/plain": [
              "R    0.833732\n",
              "L    0.142369\n",
              "U    0.023899\n",
              "Name: loser_hand, dtype: float64"
            ]
          },
          "metadata": {
            "tags": []
          },
          "execution_count": 140
        }
      ]
    },
    {
      "metadata": {
        "id": "FPOaMEA18nfh",
        "colab_type": "code",
        "colab": {}
      },
      "cell_type": "code",
      "source": [
        "winner_top_100 = matches_2016[matches_2016['winner_rank'] <= 100]"
      ],
      "execution_count": 0,
      "outputs": []
    },
    {
      "metadata": {
        "id": "zXzsAb-FF-Jr",
        "colab_type": "code",
        "colab": {}
      },
      "cell_type": "code",
      "source": [
        "top100_matches = winner_top_100[winner_top_100['loser_rank'] <= 100].sort_values(by='winner_rank')"
      ],
      "execution_count": 0,
      "outputs": []
    },
    {
      "metadata": {
        "id": "OPkFVJTHGWHf",
        "colab_type": "code",
        "colab": {
          "base_uri": "https://localhost:8080/",
          "height": 34
        },
        "outputId": "da408248-b40f-431e-9bee-9e3a65a1c719"
      },
      "cell_type": "code",
      "source": [
        "top100_matches.shape"
      ],
      "execution_count": 200,
      "outputs": [
        {
          "output_type": "execute_result",
          "data": {
            "text/plain": [
              "(1776, 49)"
            ]
          },
          "metadata": {
            "tags": []
          },
          "execution_count": 200
        }
      ]
    },
    {
      "metadata": {
        "id": "lX6klGjHJmC5",
        "colab_type": "code",
        "colab": {
          "base_uri": "https://localhost:8080/",
          "height": 68
        },
        "outputId": "052536d6-8ac6-4fe6-cd18-a6cbdda90de5"
      },
      "cell_type": "code",
      "source": [
        "top100_matches['winner_hand'].value_counts(normalize=True)\n"
      ],
      "execution_count": 205,
      "outputs": [
        {
          "output_type": "execute_result",
          "data": {
            "text/plain": [
              "R    0.86768\n",
              "L    0.13232\n",
              "Name: winner_hand, dtype: float64"
            ]
          },
          "metadata": {
            "tags": []
          },
          "execution_count": 205
        }
      ]
    },
    {
      "metadata": {
        "id": "KAO2nK95Jsc0",
        "colab_type": "code",
        "colab": {
          "base_uri": "https://localhost:8080/",
          "height": 68
        },
        "outputId": "035850f5-83d7-4cad-910b-6e9d7c94b1d4"
      },
      "cell_type": "code",
      "source": [
        "top100_matches['loser_hand'].value_counts(normalize=True)"
      ],
      "execution_count": 207,
      "outputs": [
        {
          "output_type": "execute_result",
          "data": {
            "text/plain": [
              "R    0.845721\n",
              "L    0.154279\n",
              "Name: loser_hand, dtype: float64"
            ]
          },
          "metadata": {
            "tags": []
          },
          "execution_count": 207
        }
      ]
    }
  ]
}